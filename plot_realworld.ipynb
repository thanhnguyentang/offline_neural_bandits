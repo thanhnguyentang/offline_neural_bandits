{
 "cells": [
  {
   "cell_type": "code",
   "execution_count": 1,
   "metadata": {},
   "outputs": [
    {
     "data": {
      "text/html": [
       "<style>.container { width:100% !important; }</style>"
      ],
      "text/plain": [
       "<IPython.core.display.HTML object>"
      ]
     },
     "metadata": {},
     "output_type": "display_data"
    },
    {
     "data": {
      "text/html": [
       "<style>.output_result { max-width:100% !important; }</style>"
      ],
      "text/plain": [
       "<IPython.core.display.HTML object>"
      ]
     },
     "metadata": {},
     "output_type": "display_data"
    },
    {
     "data": {
      "text/html": [
       "<style>.prompt { display:none !important; }</style>"
      ],
      "text/plain": [
       "<IPython.core.display.HTML object>"
      ]
     },
     "metadata": {},
     "output_type": "display_data"
    }
   ],
   "source": [
    "from IPython.core.display import display, HTML\n",
    "display(HTML(\"<style>.container { width:100% !important; }</style>\"))\n",
    "display(HTML(\"<style>.output_result { max-width:100% !important; }</style>\"))\n",
    "display(HTML(\"<style>.prompt { display:none !important; }</style>\"))"
   ]
  },
  {
   "cell_type": "code",
   "execution_count": 2,
   "metadata": {},
   "outputs": [],
   "source": [
    "import numpy as np \n",
    "import matplotlib.pyplot as plt \n",
    "%matplotlib inline\n",
    "import os, math"
   ]
  },
  {
   "cell_type": "code",
   "execution_count": 3,
   "metadata": {},
   "outputs": [],
   "source": [
    "def plot(algos, regrets, cumsum=False, filename=None, figshow=True, legendloc='bottom left'):\n",
    "    assert len(algos) == len(regrets)\n",
    "    num_algos = len(algos)\n",
    "    \n",
    "    # Get color range\n",
    "    cmap = plt.cm.get_cmap('jet')\n",
    "    colors = cmap(np.arange(cmap.N))\n",
    "    cinv = cmap.N / (1. * num_algos) \n",
    "    \n",
    "    \n",
    "    if cumsum:\n",
    "        regrets_ = []\n",
    "        for r in regrets:\n",
    "            regrets_.append(r.cumsum(axis=1))\n",
    "        regrets = regrets_\n",
    "    \n",
    "    # Compute mu and std \n",
    "    mus = []\n",
    "    stds = []\n",
    "    for r in regrets:\n",
    "        mu = np.mean(r,axis=0)\n",
    "        std = np.std(r,axis=0) / math.sqrt(r.shape[0])\n",
    "        mus.append(mu)\n",
    "        stds.append(std) \n",
    "        \n",
    "    # Plot \n",
    "    T = regrets[0].shape[1]\n",
    "    fig = plt.figure(figsize=(5,4))\n",
    "    dom = np.arange(T)\n",
    "\n",
    "    for i in range(num_algos):\n",
    "        color = colors[int( (i + 0.5) * cinv)] \n",
    "        plt.plot(dom, mus[i], label=algos[i], color=color) \n",
    "        plt.fill_between(dom, mus[i] + 1.96 * stds[i],\\\n",
    "                         mus[i] - 1.96 * stds[i], alpha=0.2, color=color)\n",
    "\n",
    "    plt.xlim([0,T])\n",
    "    plt.rc('grid', linestyle='--', color='black', alpha=0.2)\n",
    "    plt.grid('on')\n",
    "    \n",
    "    if legendloc:\n",
    "        plt.legend(loc = legendloc, prop={'size': 11}) \n",
    "    else:\n",
    "        plt.legend(prop={'size':11})\n",
    "\n",
    "\n",
    "    dom = np.arange(0, T, 200)\n",
    "    plt.xticks(dom, dom*10)\n",
    "    plt.xlabel('Number of samples',fontsize=12)\n",
    "    plt.ylabel('Sub-optimality',fontsize=12)\n",
    "\n",
    "    if filename:\n",
    "        if not os.path.exists('fig'):\n",
    "            os.makedirs('fig')\n",
    "        fig.savefig(os.path.join('fig', filename), dpi=500, bbox_inches='tight')\n",
    "    \n",
    "    if not figshow:\n",
    "        plt.close(fig)\n",
    "        plt.clf()"
   ]
  },
  {
   "cell_type": "code",
   "execution_count": 15,
   "metadata": {},
   "outputs": [],
   "source": [
    "def plot_realworld_experiment(name, trainconfig, beta, rbf_sigma, lr=0.001, figshow=False, legendloc=None, save=True):\n",
    "    res_dir = os.path.join('results', name)\n",
    "    approx_neural = 'approx-neural-gridsearch_epochs={}_m=100_layern=True_buffer={}_bs={}_lr={}_beta={}_lambda=0.0001_lambda0=0.1.npz'.format(trainconfig[0],trainconfig[1],trainconfig[2],lr,beta)\n",
    "    neural_greedy = 'neural-greedy-gridsearch_epochs={}_m=100_layern=True_buffer={}_bs={}_lr={}_lambda=0.0001.npz'.format(trainconfig[0],trainconfig[1],trainconfig[2],lr)\n",
    "    baseline = 'baseline_epochs=100_m=100_layern=True_beta=0.1_lambda0=0.1_rbf-sigma=1.0_maxnum=1000.npz'\n",
    "    kern = 'kern-gridsearch_beta=0.1_rbf-sigma={}_maxnum=1000.npz'.format(rbf_sigma)\n",
    "\n",
    "    neuralcb = np.load(os.path.join(res_dir,approx_neural))['arr_0']\n",
    "    neuralgreedy = np.load(os.path.join(res_dir,neural_greedy))['arr_0']\n",
    "    bl = np.load(os.path.join(res_dir,baseline))['arr_0']\n",
    "    kernlcb = np.load(os.path.join(res_dir,kern))['arr_0']\n",
    "\n",
    "    # Read data \n",
    "    arrs = (neuralcb, neuralgreedy, bl, kernlcb)\n",
    "    algos = ['NeuraLCB', 'NeuralGreedy', 'LinLCB', 'NeuralLinLCB', 'NeuralLinGreedy', 'KernLCB']\n",
    "    regrets = [] \n",
    "    i = 0\n",
    "    for a in arrs:\n",
    "        for i in range(1,a.shape[1]):\n",
    "            regrets.append(a[:,i,:])\n",
    "\n",
    "    # Plot\n",
    "    filename = '{}_cf={}{}{}_beta={}_lr={}_rbfsigma={}.pdf'.format(name.split('_')[0],trainconfig[0],trainconfig[1],trainconfig[2],beta,lr,rbf_sigma)\n",
    "    print(filename)\n",
    "    plot(algos, regrets, cumsum=False, filename=filename if save else None, figshow=figshow, legendloc=legendloc)"
   ]
  },
  {
   "cell_type": "code",
   "execution_count": 19,
   "metadata": {},
   "outputs": [
    {
     "name": "stdout",
     "output_type": "stream",
     "text": [
      "mushroom_cf=111_beta=5.0_lr=0.0001_rbfsigma=0.1.pdf\n",
      "mushroom_cf=111_beta=5.0_lr=0.0001_rbfsigma=1.0.pdf\n",
      "mushroom_cf=111_beta=5.0_lr=0.0001_rbfsigma=10.0.pdf\n",
      "mushroom_cf=111_beta=2.0_lr=0.0001_rbfsigma=0.1.pdf\n",
      "mushroom_cf=111_beta=2.0_lr=0.0001_rbfsigma=1.0.pdf\n",
      "mushroom_cf=111_beta=2.0_lr=0.0001_rbfsigma=10.0.pdf\n",
      "mushroom_cf=111_beta=10.0_lr=0.0001_rbfsigma=0.1.pdf\n",
      "mushroom_cf=111_beta=10.0_lr=0.0001_rbfsigma=1.0.pdf\n",
      "mushroom_cf=111_beta=10.0_lr=0.0001_rbfsigma=10.0.pdf\n",
      "mushroom_cf=3010016_beta=5.0_lr=0.0001_rbfsigma=0.1.pdf\n",
      "mushroom_cf=3010016_beta=5.0_lr=0.0001_rbfsigma=1.0.pdf\n",
      "mushroom_cf=3010016_beta=5.0_lr=0.0001_rbfsigma=10.0.pdf\n",
      "mushroom_cf=3010016_beta=2.0_lr=0.0001_rbfsigma=0.1.pdf\n",
      "mushroom_cf=3010016_beta=2.0_lr=0.0001_rbfsigma=1.0.pdf\n",
      "mushroom_cf=3010016_beta=2.0_lr=0.0001_rbfsigma=10.0.pdf\n",
      "mushroom_cf=3010016_beta=10.0_lr=0.0001_rbfsigma=0.1.pdf\n",
      "mushroom_cf=3010016_beta=10.0_lr=0.0001_rbfsigma=1.0.pdf\n",
      "mushroom_cf=3010016_beta=10.0_lr=0.0001_rbfsigma=10.0.pdf\n"
     ]
    },
    {
     "data": {
      "text/plain": [
       "<Figure size 432x288 with 0 Axes>"
      ]
     },
     "metadata": {},
     "output_type": "display_data"
    }
   ],
   "source": [
    "data_types = [\n",
    "             'mushroom_d=117_a=2_pi=eps-greedy0.1_std=0']\n",
    "              #'statlog_d=10_a=7_pi=eps-greedy0.1_std=0',\n",
    "              #'stock_d=21_a=8_pi=eps-greedy0.1_std=0.1',\n",
    "              #'jester_d=32_a=8_pi=eps-greedy0.1_std=0.1', \n",
    "              #'covertype_d=54_a=7_pi=eps-greedy0.1_std=0', \n",
    "              #'census_d=387_a=9_pi=eps-greedy0.1_std=0.0',\n",
    "              #'adult_d=92_a=14_pi=eps-greedy0.1_std=0.0']\n",
    "betas = [0.01,0.05,0.1,1.0,5.0, 2.0, 10.0]\n",
    "trconfigs =  [(1,1,1),(100,-1,50),(30,100,16)]\n",
    "rbf_sigmas = [0.1,1.0,10.0]\n",
    "lrs = [0.001,0.0001]\n",
    "for data_type in data_types:\n",
    "    for trconfig in trconfigs:\n",
    "        for beta in betas:\n",
    "            for lr in lrs:\n",
    "                for rbf_sigma in rbf_sigmas:\n",
    "                    try:\n",
    "                        plot_realworld_experiment(data_type, trconfig, beta, rbf_sigma, lr)\n",
    "                    except: \n",
    "                         pass"
   ]
  },
  {
   "cell_type": "code",
   "execution_count": null,
   "metadata": {},
   "outputs": [],
   "source": []
  }
 ],
 "metadata": {
  "kernelspec": {
   "display_name": "venv3",
   "language": "python",
   "name": "venv3"
  },
  "language_info": {
   "codemirror_mode": {
    "name": "ipython",
    "version": 3
   },
   "file_extension": ".py",
   "mimetype": "text/x-python",
   "name": "python",
   "nbconvert_exporter": "python",
   "pygments_lexer": "ipython3",
   "version": "3.6.7"
  }
 },
 "nbformat": 4,
 "nbformat_minor": 2
}
